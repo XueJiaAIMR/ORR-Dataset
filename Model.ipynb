{
 "cells": [
  {
   "cell_type": "code",
   "execution_count": 1,
   "id": "9ac2d81d",
   "metadata": {},
   "outputs": [],
   "source": [
    "import numpy as np\n",
    "import pandas as pd\n",
    "import random\n",
    "from sklearn.metrics import accuracy_score\n",
    "from sklearn.metrics import f1_score\n",
    "from scipy import interpolate\n",
    "from pymatgen.ext.matproj import MPRester\n",
    "import matplotlib.pyplot as plt\n",
    "import seaborn as sns\n",
    "import random\n",
    "import pymatgen as mg\n",
    "from sklearn import preprocessing\n",
    "from sklearn.ensemble import RandomForestRegressor\n",
    "from sklearn.model_selection import train_test_split,cross_val_score, KFold, GridSearchCV\n",
    "from sklearn.metrics import r2_score, mean_squared_error\n",
    "from sklearn.preprocessing import StandardScaler\n",
    "from sklearn.metrics import roc_auc_score\n",
    "import matplotlib.pyplot as plt\n",
    "from sklearn.utils import shuffle\n",
    "import seaborn as sns\n",
    "\n",
    "#-- MATMINER\n",
    "from matminer.featurizers.conversions import StrToComposition\n",
    "\n",
    "#-- SKLEARN\n",
    "from sklearn.utils import shuffle\n",
    "from sklearn.ensemble import GradientBoostingRegressor\n",
    "from sklearn.ensemble import RandomForestRegressor\n",
    "\n",
    "from matminer.featurizers.conversions import StrToComposition\n",
    "from matminer.featurizers.base import MultipleFeaturizer\n",
    "from matminer.featurizers import composition as cf\n",
    "\n",
    "#-- SEABORN\n",
    "import seaborn as sns"
   ]
  },
  {
   "cell_type": "markdown",
   "id": "0c5330d1",
   "metadata": {},
   "source": [
    "# load data"
   ]
  },
  {
   "cell_type": "code",
   "execution_count": null,
   "id": "9f61fe42",
   "metadata": {},
   "outputs": [],
   "source": [
    "data_loop_2_final = pd.read_excel('./data_08VRHE.xlsx',index_col=0)#0r 0.63VRHE\n",
    "data_loop_2_final.head()"
   ]
  },
  {
   "cell_type": "code",
   "execution_count": null,
   "id": "16cc8151",
   "metadata": {},
   "outputs": [],
   "source": [
    "X_train,X_test,y_train,y_test = train_test_split(X_train_updat_pd,Y_train_updat_pd,test_size=0.2,random_state=0,shuffle=True)\n",
    "X_train_np = np.array(X_train)\n",
    "X_test_np = np.array(X_test)\n",
    "y_train_np = np.array(y_train)\n",
    "y_test_np = np.array(y_test)"
   ]
  },
  {
   "cell_type": "markdown",
   "id": "f5901648",
   "metadata": {},
   "source": [
    "# Scaling features"
   ]
  },
  {
   "cell_type": "code",
   "execution_count": null,
   "id": "4b02dd11",
   "metadata": {},
   "outputs": [],
   "source": [
    "from sklearn.preprocessing import StandardScaler\n",
    "scaler_ = StandardScaler()\n",
    "sca_fit_ = scaler_.fit(X_train_np)\n",
    "X_train_stan_ = sca_fit_.transform(X_train_np)\n",
    "X_test_stan_ = sca_fit_.transform(X_test_np)"
   ]
  },
  {
   "cell_type": "markdown",
   "id": "5a8afecc",
   "metadata": {},
   "source": [
    "# Tune hypreparameters"
   ]
  },
  {
   "cell_type": "code",
   "execution_count": null,
   "id": "37368ebf",
   "metadata": {},
   "outputs": [],
   "source": [
    "from xgboost import XGBRegressor\n",
    "param_grid = {'max_depth':np.arange(4,8),\n",
    "              #'gamma':[0.0,0.2,0.4],\n",
    "              'min_child_weight':np.arange(2,5),\n",
    "              'subsample':[0.6,0.8,1],\n",
    "              'colsample_bytree':[0.6,0.8],\n",
    "            'reg_alpha': [1,10],\n",
    "            'reg_lambda': [1,10],\n",
    "             }\n",
    "xgb_test =  XGBRegressor(n_estimators=500,\n",
    "                         #reg_alpha =0.1,\n",
    "                         #reg_lambda = 0.1,\n",
    "                         \n",
    "                        #boosting_type='gbdt',\n",
    "                        #objective='regression',\n",
    "                        #min_samples_split=2,\n",
    "                        learning_rate=0.01,\n",
    "                        random_state = 0,\n",
    "                        n_jobs = 2) \n",
    "GS = GridSearchCV(xgb_test,param_grid,cv=kfold)\n",
    "GS.fit(X_train_stan_,y_train_np)\n",
    "#end = clock()\n",
    "\n",
    "print(GS.best_params_)\n",
    "print(GS.best_score_)"
   ]
  },
  {
   "cell_type": "markdown",
   "id": "f79e1372",
   "metadata": {},
   "source": [
    "# Final model"
   ]
  },
  {
   "cell_type": "code",
   "execution_count": null,
   "id": "6ca9ea75",
   "metadata": {},
   "outputs": [],
   "source": [
    "from xgboost import XGBRegressor\n",
    "xgb_test =  XGBRegressor(n_estimators=500,\n",
    "                        colsample_bytree=0.8,\n",
    "                        gamma=0.0,\n",
    "                        max_depth=6,\n",
    "                         min_child_weight = 2,\n",
    "                         reg_alpha = 1,\n",
    "                         reg_lambda = 1,\n",
    "                         subsample = 1,\n",
    "                        learning_rate=0.01,\n",
    "                        random_state = 0,\n",
    "                        n_jobs = 2) \n",
    "score = cross_val_score(xgb_test,X_train_stan_,y_train_np,cv=kfold).mean()\n",
    "mse = cross_val_score(xgb_test,X_train_stan_,y_train_np,cv=kfold,scoring = 'neg_mean_squared_error').mean()\n",
    "\n",
    "print(score) # R2\n",
    "print(mse)                  \n",
    "print(np.sqrt(score))       \n",
    "print(np.sqrt(abs(mse)))\n"
   ]
  },
  {
   "cell_type": "markdown",
   "id": "59c94c2c",
   "metadata": {},
   "source": [
    "# Result of 10-fold"
   ]
  },
  {
   "cell_type": "code",
   "execution_count": null,
   "id": "7c61feca",
   "metadata": {},
   "outputs": [],
   "source": [
    "predicted_xgb = cross_val_predict(xgb_test,X_train_stan_,y_train_np, cv=kfold)\n",
    "\n",
    "diff_mlpr = abs(np.array(y_train_np)-np.array(predicted_xgb))\n",
    "diff_mlpr_pd = pd.DataFrame(diff_mlpr)\n",
    "diff_mlpr_pd.columns = ['diff2']\n",
    "y_train_pd = pd.DataFrame(y_train_np)\n",
    "y_train_pd.columns = ['y_true']\n",
    "predicted_mlpr_pd = pd.DataFrame(predicted_xgb)\n",
    "predicted_mlpr_pd.columns = ['y_pre']\n",
    "#X_stan_pd = pd.DataFrame(X_train_stan)\n",
    "X_stan_pd = X_train.reset_index(drop = True)\n",
    "data_compare_mlpr = pd.concat([X_stan_pd,y_train_pd,predicted_mlpr_pd,diff_mlpr_pd],axis = 1)\n",
    "data_compare_mlpr = data_compare_mlpr.sort_values(by='diff2',ascending=False,axis=0)\n",
    "data_compare_mlpr.to_excel('./xgb_10fold.xlsx')\n",
    "data_compare_mlpr.head()"
   ]
  },
  {
   "cell_type": "markdown",
   "id": "d8d5fe79",
   "metadata": {},
   "source": [
    "# Performance on the training"
   ]
  },
  {
   "cell_type": "code",
   "execution_count": null,
   "id": "e532f20b",
   "metadata": {},
   "outputs": [],
   "source": [
    "clf_xgb = xgb_test.fit(X_train_stan_,y_train_np)\n",
    "train_xgb = clf_xgb.predict(X_train_stan_)\n",
    "#X_test_pd_np_gbr = np.array(X_test_pd[index_])\n",
    "#clf_mlpr.predict(X_test_stan_)\n",
    "R2 = r2_score(y_train_np,train_xgb)\n",
    "mse = mean_squared_error(y_train_np,train_xgb)\n",
    "print(R2)\n",
    "print(mse)\n",
    "print(np.sqrt(score))       \n",
    "print(np.sqrt(abs(mse)))"
   ]
  },
  {
   "cell_type": "code",
   "execution_count": null,
   "id": "570d59a9",
   "metadata": {},
   "outputs": [],
   "source": [
    "diff_xgb = abs(np.array(y_train_np)-np.array(train_xgb))\n",
    "diff_xgb_pd = pd.DataFrame(diff_xgb)\n",
    "diff_xgb_pd.columns = ['diff2']\n",
    "y_train_pd = pd.DataFrame(y_train_np)\n",
    "y_train_pd.columns = ['y_true']\n",
    "predicted_xgb_pd = pd.DataFrame(train_xgb)\n",
    "predicted_xgb_pd.columns = ['y_pre']\n",
    "#X_stan_pd = pd.DataFrame(X_train_stan)\n",
    "X_stan_pd = X_train.reset_index(drop = True)\n",
    "data_compare_xgb = pd.concat([X_stan_pd,y_train_pd,predicted_xgb_pd,diff_xgb_pd],axis = 1)\n",
    "data_compare_xgb = data_compare_xgb.sort_values(by='diff2',ascending=False,axis=0)\n",
    "#data_compare_xgb.to_excel('D:/Work in Tohoku/research/a_research_work/c_deepinglearning_ORR/celue4/xgb_training.xlsx')\n",
    "data_compare_xgb.head(5)"
   ]
  },
  {
   "cell_type": "markdown",
   "id": "37507f46",
   "metadata": {},
   "source": [
    "# Performance on the test"
   ]
  },
  {
   "cell_type": "code",
   "execution_count": null,
   "id": "1368320d",
   "metadata": {},
   "outputs": [],
   "source": [
    "#X_test_pd_np_gbr = np.array(X_test_pd[index_])\n",
    "R2 = r2_score(y_test_np,clf_xgb.predict(X_test_stan_))\n",
    "mse = mean_squared_error(y_test_np,clf_xgb.predict(X_test_stan_))\n",
    "print(R2)\n",
    "print(mse)\n",
    "print(np.sqrt(score))       \n",
    "print(np.sqrt(abs(mse)))"
   ]
  },
  {
   "cell_type": "code",
   "execution_count": null,
   "id": "2cb31f82",
   "metadata": {},
   "outputs": [],
   "source": [
    "test_xgb = clf_xgb.predict(X_test_stan_)\n",
    "\n",
    "diff_mlpr = abs(np.array(y_test_np)-np.array(test_xgb))\n",
    "diff_mlpr_pd = pd.DataFrame(diff_mlpr)\n",
    "diff_mlpr_pd.columns = ['diff']\n",
    "y_train_pd = pd.DataFrame(y_test_np)\n",
    "y_train_pd.columns = ['y_true']\n",
    "predicted_mlpr_pd = pd.DataFrame(test_xgb)\n",
    "predicted_mlpr_pd.columns = ['y_pre']\n",
    "X_pd = X_test.reset_index(drop = True)\n",
    "data_compare_mlpr = pd.concat([X_pd,y_train_pd,predicted_mlpr_pd,diff_mlpr_pd],axis = 1)\n",
    "data_compare_mlpr = data_compare_mlpr.sort_values(by='diff',ascending=False,axis=0)\n",
    "#data_compare_mlpr.to_excel('D:/Work in Tohoku/research/a_research_work/c_deepinglearning_ORR/celue4/xgb_test.xlsx')\n",
    "data_compare_mlpr.head()"
   ]
  }
 ],
 "metadata": {
  "kernelspec": {
   "display_name": "Python 3 (ipykernel)",
   "language": "python",
   "name": "python3"
  },
  "language_info": {
   "codemirror_mode": {
    "name": "ipython",
    "version": 3
   },
   "file_extension": ".py",
   "mimetype": "text/x-python",
   "name": "python",
   "nbconvert_exporter": "python",
   "pygments_lexer": "ipython3",
   "version": "3.11.5"
  }
 },
 "nbformat": 4,
 "nbformat_minor": 5
}
